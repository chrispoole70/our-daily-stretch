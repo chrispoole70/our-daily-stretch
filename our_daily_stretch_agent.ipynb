{
  "nbformat": 4,
  "nbformat_minor": 0,
  "metadata": {
    "colab": {
      "provenance": [],
      "authorship_tag": "ABX9TyNBcReW9KZsCO2KhhopWcK2",
      "include_colab_link": true
    },
    "kernelspec": {
      "name": "python3",
      "display_name": "Python 3"
    },
    "language_info": {
      "name": "python"
    }
  },
  "cells": [
    {
      "cell_type": "markdown",
      "metadata": {
        "id": "view-in-github",
        "colab_type": "text"
      },
      "source": [
        "<a href=\"https://colab.research.google.com/github/chrispoole70/our-daily-stretch/blob/main/our_daily_stretch_agent.ipynb\" target=\"_parent\"><img src=\"https://colab.research.google.com/assets/colab-badge.svg\" alt=\"Open In Colab\"/></a>"
      ]
    },
    {
      "cell_type": "markdown",
      "source": [
        "The goal for this agent is to be a stretching coach. The user could describe what's causing them discomfort and ask the coach for stretches to do. Then the coach could share a daily stretching plan with them and send a reminder to stretch.\n",
        "\n",
        "---\n",
        "\n",
        "**Here's an example ideal conversation:**\n",
        "* Human: Hello, I'm feeling discomfort in my hips. I'm hoping you can help me create a stretching routine to alleviate some of this pain and improve my flexibility.\n",
        "* AI: Hello, of course I can help you with that! I know a lot of good hip stretches that you can try. First, I'd like to know how much time you'd like to allot for stretching. Is five minutes ok?\n",
        "* Human: Sure, five minutes sounds good.\n",
        "* AI: Ok. Here are five hip stretches you could do for one minute each:\n",
        "   1. _Stretch 1_\n",
        "   2. _Stretch 2_\n",
        "   3. _Stretch 3_\n",
        "   4. _Stretch 4_\n",
        "   5. _Stretch 5_\n",
        "\n",
        "  How does this stretch plan look?\n",
        "* Human: I think it looks good, let me give it a try.\n",
        "* AI: Sure thing! Would you like me to send you a reminder to stretch?\n",
        "* Human: Yeah, that would be helpful.\n",
        "* AI: Great, I will send this stretch plan to you as a reminder. Would you like me to send it as a text message to your phone?\n",
        "* Human: Yeah, that works.\n",
        "* AI: Great, and how often would you like to stretch? I can send you a reminder everyday, for example.\n",
        "* Human: Stretching everyday would be a good goal for me. Sure, you can send me a reminder everyday before I go to bed, around 9PM.\n",
        "* AI: Absolutely! I will send this stretch plan to you tonight around 9PM via text message. Then I will send subsequent reminders everyday at 9PM. Good luck with the stretching and please let me know how it goes! I'm here to help if you want to revise your plan.\n",
        "* Human: Thanks! I'll do the stretches and check in with you later.\n",
        "\n",
        "---\n",
        "\n",
        "**Here's a short conversation to get started with:**\n",
        "* Human: Can you create a stretching routine for me? I'd like to focus on hip stretches to improve my flexibility. The plan should have five stretches that I can do for one minute each.\n",
        "* AI: No problem! Here are five hip stretches you can do for one minute each:\n",
        "   1. _Stretch 1_\n",
        "   2. _Stretch 2_\n",
        "   3. _Stretch 3_\n",
        "   4. _Stretch 4_\n",
        "   5. _Stretch 5_\n"
      ],
      "metadata": {
        "id": "9kYIrJRKhDXJ"
      }
    },
    {
      "cell_type": "code",
      "source": [
        "%%capture --no-stderr\n",
        "%pip install --quiet -U langchain_openai langchain_core langgraph"
      ],
      "metadata": {
        "id": "QW8d03tWhixa"
      },
      "execution_count": 1,
      "outputs": []
    },
    {
      "cell_type": "code",
      "source": [
        "import os\n",
        "\n",
        "from google.colab import userdata\n",
        "from langgraph.graph import MessagesState\n",
        "from langchain_core.messages import HumanMessage, SystemMessage\n",
        "from langchain_core.prompts import ChatPromptTemplate, MessagesPlaceholder\n",
        "from langchain_openai import ChatOpenAI"
      ],
      "metadata": {
        "id": "hV-F62R6mBqX"
      },
      "execution_count": 10,
      "outputs": []
    },
    {
      "cell_type": "code",
      "source": [
        "def _set_env(var: str):\n",
        "    if not os.environ.get(var):\n",
        "        os.environ[var] = userdata.get(var)\n",
        "\n",
        "_set_env(\"OPENAI_API_KEY\")"
      ],
      "metadata": {
        "id": "Z6LNGAZ_maEQ"
      },
      "execution_count": 2,
      "outputs": []
    },
    {
      "cell_type": "markdown",
      "source": [
        "# Short Conversation"
      ],
      "metadata": {
        "id": "lwWPQ0jrXfcf"
      }
    },
    {
      "cell_type": "markdown",
      "source": [
        "First, let's reverse engineer the application by starting with the short human conversation..."
      ],
      "metadata": {
        "id": "pI2PYEUImrX_"
      }
    },
    {
      "cell_type": "code",
      "source": [
        "messages = [HumanMessage(content=\"\"\"\n",
        "Can you create a stretching routine for me? I'd like to focus on stretches to improve my flexibility.\n",
        "The plan should have five stretches that I can do for one minute each.\n",
        "\"\"\")]"
      ],
      "metadata": {
        "id": "_uqJP7KsnP2y"
      },
      "execution_count": 4,
      "outputs": []
    },
    {
      "cell_type": "markdown",
      "source": [
        "Next, let's instantiate our LLM..."
      ],
      "metadata": {
        "id": "gO-uLuQQrT_6"
      }
    },
    {
      "cell_type": "code",
      "source": [
        "llm = ChatOpenAI(model=\"gpt-4o-mini\")"
      ],
      "metadata": {
        "id": "IbUP0Q4XrZue"
      },
      "execution_count": 7,
      "outputs": []
    },
    {
      "cell_type": "markdown",
      "source": [
        "Based on the short human message, we know that there will need to be a tool call to get the list of stretches..."
      ],
      "metadata": {
        "id": "fyyq_UulrmvA"
      }
    },
    {
      "cell_type": "code",
      "source": [
        "from typing import List\n",
        "\n",
        "def get_stretches() -> List[str]:\n",
        "  ''' Returns a list of stretches\n",
        "  '''\n",
        "  return [\n",
        "      'Archer Pose',\n",
        "      'Four Corner Stretch',\n",
        "      'Revolved Paying Homage',\n",
        "      'Reverse Prayer',\n",
        "      'Root Lock'\n",
        "      ]\n",
        "\n",
        "tools = [get_stretches]"
      ],
      "metadata": {
        "id": "67SbsTC0rl8O"
      },
      "execution_count": 8,
      "outputs": []
    },
    {
      "cell_type": "code",
      "source": [
        "llm_bound_to_tools = llm.bind_tools(tools=tools)"
      ],
      "metadata": {
        "id": "dQFtVrRZs971"
      },
      "execution_count": 9,
      "outputs": []
    },
    {
      "cell_type": "markdown",
      "source": [
        "Then let's write down a system message with instructions for the LLM..."
      ],
      "metadata": {
        "id": "v74mNZomqxbj"
      }
    },
    {
      "cell_type": "code",
      "source": [
        "system_msg = SystemMessage(content=\"\"\"\n",
        "You are a stretch coach tasked with generating stretch plans. If a user asks for\n",
        "stretches, only use the stretches returned from the tool called get_stretches.\n",
        "\"\"\")\n",
        "\n",
        "def stretch_coach(state: MessagesState):\n",
        "  return {\n",
        "      'messages': [llm_bound_to_tools.invoke(f'{system_msg} {state[\"messages\"]}')]\n",
        "  }"
      ],
      "metadata": {
        "id": "z3v_WnzhqmJi"
      },
      "execution_count": null,
      "outputs": []
    },
    {
      "cell_type": "code",
      "source": [
        "system_message = \"\"\"\n",
        "You are a stretch coach tasked with generating stretch plans. If a user asks for\n",
        "stretches, only use the stretches returned from the tool called get_stretches.\n",
        "\"\"\"\n",
        "\n",
        "prompt_template = ChatPromptTemplate.from_messages(\n",
        "    [\n",
        "        ('system', system_message),\n",
        "        MessagesPlaceholder(variable_name='messages')\n",
        "    ]\n",
        ")\n",
        "\n",
        "# def stretch_coach(state: MessagesState):\n"
      ],
      "metadata": {
        "id": "yrtAQicUnzC0"
      },
      "execution_count": 11,
      "outputs": []
    },
    {
      "cell_type": "markdown",
      "source": [
        "In order to invoke the message, we need to:\n",
        "1. Build the graph\n",
        "2. Add nodes to the graph\n",
        "3. Connect the nodes via edges"
      ],
      "metadata": {
        "id": "w_zZxlMIoCbF"
      }
    },
    {
      "cell_type": "code",
      "source": [
        "from langgraph.graph import START, StateGraph\n",
        "from langgraph.prebuilt import ToolNode, tools_condition\n",
        "from IPython.display import Image, display\n",
        "\n",
        "# 1. Build the graph\n",
        "graph_builder = StateGraph(MessagesState)\n",
        "\n",
        "# 2. Add nodes to the graph\n",
        "graph_builder.add_node('stretch_coach', stretch_coach)\n",
        "graph_builder.add_node('tools', ToolNode(tools))\n",
        "\n",
        "# 3. Connect the nodes via edges\n",
        "graph_builder.add_edge(start_key=START, end_key='stretch_coach')\n",
        "graph_builder.add_conditional_edges(source='stretch_coach', path=tools_condition)\n",
        "graph_builder.add_edge(start_key='tools', end_key='stretch_coach')\n",
        "\n",
        "# 4. Preserve the conversation history in memory\n",
        "memory = MemorySaver()\n",
        "\n",
        "# Lastly, compile the graph so that it can be invoked\n",
        "runnable_graph = graph_builder.compile(checkpointer=memory)"
      ],
      "metadata": {
        "id": "rBnr30FInpy3"
      },
      "execution_count": null,
      "outputs": []
    },
    {
      "cell_type": "code",
      "source": [
        "# Displaying the graph within the notebook is not working. I tried to generate it locally instead of calling the Mermaid API\n",
        "# but that hasn't worked yet, either: https://langchain-ai.github.io/langgraph/how-tos/visualization/#using-mermaidink\n",
        "\n",
        "# from langchain_core.runnables.graph_mermaid import MermaidDrawMethod\n",
        "\n",
        "# display(Image(runnable_graph.get_graph(xray=True).draw_mermaid_png(draw_method=MermaidDrawMethod.PYPPETEER)))"
      ],
      "metadata": {
        "id": "HA1FDEPuxLin"
      },
      "execution_count": null,
      "outputs": []
    },
    {
      "cell_type": "markdown",
      "source": [
        "Can copy the YAML below and paste it into the [Mermaid live editor](https://mermaid.live/)"
      ],
      "metadata": {
        "id": "13NdUqps3w6j"
      }
    },
    {
      "cell_type": "code",
      "source": [
        "print(runnable_graph.get_graph(xray=True).draw_mermaid())"
      ],
      "metadata": {
        "colab": {
          "base_uri": "https://localhost:8080/"
        },
        "id": "mLmtXEPnxa3E",
        "outputId": "35fb4aee-5a75-4559-f6d3-e9fbbc1079d4"
      },
      "execution_count": null,
      "outputs": [
        {
          "output_type": "stream",
          "name": "stdout",
          "text": [
            "---\n",
            "config:\n",
            "  flowchart:\n",
            "    curve: linear\n",
            "---\n",
            "graph TD;\n",
            "\t__start__([<p>__start__</p>]):::first\n",
            "\tstretch_coach(stretch_coach)\n",
            "\ttools(tools)\n",
            "\t__end__([<p>__end__</p>]):::last\n",
            "\t__start__ --> stretch_coach;\n",
            "\ttools --> stretch_coach;\n",
            "\tstretch_coach -.-> tools;\n",
            "\tstretch_coach -.-> __end__;\n",
            "\tclassDef default fill:#f2f0ff,line-height:1.2\n",
            "\tclassDef first fill-opacity:0\n",
            "\tclassDef last fill:#bfb6fc\n",
            "\n"
          ]
        }
      ]
    },
    {
      "cell_type": "code",
      "source": [
        "messages = runnable_graph.invoke({'messages': messages})"
      ],
      "metadata": {
        "id": "GwsKiZuM11Bx"
      },
      "execution_count": null,
      "outputs": []
    },
    {
      "cell_type": "code",
      "source": [
        "for m in messages['messages']:\n",
        "    m.pretty_print()"
      ],
      "metadata": {
        "colab": {
          "base_uri": "https://localhost:8080/"
        },
        "id": "hvm7EtU1-fha",
        "outputId": "5cdc2402-6162-4dd5-e611-cc4aedc208ab"
      },
      "execution_count": null,
      "outputs": [
        {
          "output_type": "stream",
          "name": "stdout",
          "text": [
            "================================\u001b[1m Human Message \u001b[0m=================================\n",
            "\n",
            "Can you create a stretching routine for me? I'd like to focus on stretches to improve my flexibility. The plan should have five stretches that I can do for one minute each.\n",
            "==================================\u001b[1m Ai Message \u001b[0m==================================\n",
            "Tool Calls:\n",
            "  get_stretches (call_A01RbYv0SWV7u8QPnRnZI2nt)\n",
            " Call ID: call_A01RbYv0SWV7u8QPnRnZI2nt\n",
            "  Args:\n",
            "=================================\u001b[1m Tool Message \u001b[0m=================================\n",
            "Name: get_stretches\n",
            "\n",
            "[\"Archer Pose\", \"Four Corner Stretch\", \"Revolved Paying Homage\", \"Reverse Prayer\", \"Root Lock\"]\n",
            "==================================\u001b[1m Ai Message \u001b[0m==================================\n",
            "\n",
            "Here's a stretching routine focusing on improving your flexibility. Perform each stretch for one minute:\n",
            "\n",
            "1. **Archer Pose**: Stand with your feet wide apart, turn your right foot out, and bend your right knee. Extend your arms parallel to the ground, one forward and the other pointing backward. Hold this position, then switch sides.\n",
            "\n",
            "2. **Four Corner Stretch**: Sit with your legs extended and spread wide. Slowly reach towards one foot with both hands, hold the stretch, then move to the other foot. Finally, reach forward towards the middle, keeping your back straight.\n",
            "\n",
            "3. **Revolved Paying Homage**: Kneel on the ground and sit back on your heels. Extend your arms forward, then twist your torso as you reach your right hand towards the left and your left hand towards the right.\n",
            "\n",
            "4. **Reverse Prayer**: Stand or sit comfortably. Bring your arms behind your back and join your palms together, fingers pointing upwards as if in prayer. Gently push your chest forward and hold.\n",
            "\n",
            "5. **Root Lock (Mula Bandha)**: Sit cross-legged on the ground. Focus on engaging and lifting the pelvic floor muscles. Hold this gentle contraction and focus on your breath.\n",
            "\n",
            "Make sure to breathe deeply and slowly throughout each stretch, and stop if you feel any discomfort or pain. Enjoy your stretching routine!\n"
          ]
        }
      ]
    },
    {
      "cell_type": "markdown",
      "source": [
        "TODO:\n",
        "* I don't think we want the LLM to generate instructions for each stretch in real-time. I should probably write instructions for each stretch when I record it. Or maybe I could have an LLM watch the video and generate instructions?\n",
        "* In order for the longer ideal conversation to be able to be had, I need to:\n",
        "   1. Add memory so that the state of each graph invocation is kept.\n",
        "   2. Update the `get_stretches` tool to return stretches that are tagged with the body part the user wants to stretch.\n",
        "   3. Add a tool for scheduling a reminder.\n",
        "   4. Should the agent be given goals? Such as, goal 1 is figure out what types of stretches, goal 2 is to figure how many stretches, goal 3 is to figure out how long each stretch should be, etc.\n"
      ],
      "metadata": {
        "id": "yIwhO8HxBcCu"
      }
    },
    {
      "cell_type": "markdown",
      "source": [
        "# Longer Conversation"
      ],
      "metadata": {
        "id": "zpblmZnWXlrb"
      }
    },
    {
      "cell_type": "code",
      "source": [
        "from langgraph.graph import MessagesState\n",
        "from langchain_core.messages import HumanMessage, SystemMessage\n",
        "\n",
        "messages = [HumanMessage(content=\"Hello, I'm feeling discomfort in my hips. I'm hoping you can help me create a stretching routine to alleviate some of this pain and improve my flexibility.\")]"
      ],
      "metadata": {
        "id": "6rSqMygK-t-k"
      },
      "execution_count": null,
      "outputs": []
    },
    {
      "cell_type": "code",
      "source": [
        "from langchain_openai import ChatOpenAI\n",
        "\n",
        "llm = ChatOpenAI(model=\"gpt-4o-mini\")"
      ],
      "metadata": {
        "id": "m0j3AYR5Xw9B"
      },
      "execution_count": null,
      "outputs": []
    },
    {
      "cell_type": "code",
      "source": [
        "from typing import List\n",
        "\n",
        "def get_stretches() -> List[str]:\n",
        "  ''' Returns a list of stretches\n",
        "  '''\n",
        "  return [\n",
        "      'Archer Pose',\n",
        "      'Four Corner Stretch',\n",
        "      'Revolved Paying Homage',\n",
        "      'Reverse Prayer',\n",
        "      'Root Lock'\n",
        "      ]\n",
        "\n",
        "tools = [get_stretches]"
      ],
      "metadata": {
        "id": "NmhgNuLPX0xK"
      },
      "execution_count": null,
      "outputs": []
    },
    {
      "cell_type": "code",
      "source": [
        "llm_bound_to_tools = llm.bind_tools(tools=tools)"
      ],
      "metadata": {
        "id": "5_2wtLvAX5u1"
      },
      "execution_count": null,
      "outputs": []
    },
    {
      "cell_type": "code",
      "source": [
        "# System message\n",
        "system_msg = SystemMessage(content=\"\"\"\n",
        "You are a stretch coach tasked with generating stretch plans. Here are your specific instructions:\n",
        "\n",
        "* If a user asks for stretches, only use the stretches returned from the tool called get_stretches.\n",
        "* When generating a stretch plan, include the stretch names but not descriptions of how to do the stretches.\n",
        "* You have these goals to achieve in a conversation:\n",
        "   1. Ask how long they would like to stretch for. 5 minutes is the default length of time.\n",
        "   2. Ask how often they would like to stretch for. Daily is the default cadence.\n",
        "   3. Generate a stretch plan that adheres to the user's time limit and cadence.\n",
        "\n",
        "\n",
        "Below is an example of a conversation a user can have with you:\n",
        "\n",
        "Human: Hello, I'm feeling discomfort in my hips. I'm hoping you can help me create a stretching routine to alleviate some of this pain and improve my flexibility.\n",
        "\n",
        "AI: Hello, of course I can help you with that! I know a lot of good hip stretches that you can try. First, I'd like to know how much time you'd like to allot for stretching. Is five minutes ok?\n",
        "\n",
        "Human: Sure, five minutes sounds good.\n",
        "\n",
        "AI: Ok. Here are five hip stretches you could do for one minute each:\n",
        "   * Stretch 1\n",
        "   * Stretch 2\n",
        "   * Stretch 3\n",
        "   * Stretch 4\n",
        "   * Stretch 5\n",
        "How does this stretch plan look?\n",
        "\n",
        "Human: Thanks, I think it looks good.\n",
        "\n",
        "AI: Great, and how often would you like to stretch? Once a day?\n",
        "\n",
        "Human: Stretching everyday would be a good goal for me. Let me try out these stretches later today.\n",
        "\n",
        "AI: Sounds good, I hope it goes well!\n",
        "\"\"\")\n",
        "\n",
        "def stretch_coach(state: MessagesState):\n",
        "  return {\n",
        "      'messages': [llm_bound_to_tools.invoke(f'{system_msg} {state[\"messages\"]}')]\n",
        "  }"
      ],
      "metadata": {
        "id": "QS85cPQYX9Re"
      },
      "execution_count": null,
      "outputs": []
    },
    {
      "cell_type": "code",
      "source": [
        "from langgraph.graph import START, StateGraph\n",
        "from langgraph.prebuilt import ToolNode, tools_condition\n",
        "from IPython.display import Image, display\n",
        "\n",
        "# 1. Build the graph\n",
        "graph_builder = StateGraph(MessagesState)\n",
        "\n",
        "# 2. Add nodes to the graph\n",
        "graph_builder.add_node('stretch_coach', stretch_coach)\n",
        "graph_builder.add_node('tools', ToolNode(tools))\n",
        "\n",
        "# 3. Connect the nodes via edges\n",
        "graph_builder.add_edge(start_key=START, end_key='stretch_coach')\n",
        "graph_builder.add_conditional_edges(source='stretch_coach', path=tools_condition)\n",
        "graph_builder.add_edge(start_key='tools', end_key='stretch_coach')\n",
        "\n",
        "# Lastly, compile the graph so that it can be invoked\n",
        "runnable_graph = graph_builder.compile()"
      ],
      "metadata": {
        "id": "qnA1aRKha4rD"
      },
      "execution_count": null,
      "outputs": []
    },
    {
      "cell_type": "code",
      "source": [
        "print(runnable_graph.get_graph(xray=True).draw_mermaid())"
      ],
      "metadata": {
        "colab": {
          "base_uri": "https://localhost:8080/"
        },
        "id": "1k3ZLJTdbfeX",
        "outputId": "2fe3c0b7-d99e-45e9-e8b4-11630de758ec"
      },
      "execution_count": null,
      "outputs": [
        {
          "output_type": "stream",
          "name": "stdout",
          "text": [
            "---\n",
            "config:\n",
            "  flowchart:\n",
            "    curve: linear\n",
            "---\n",
            "graph TD;\n",
            "\t__start__([<p>__start__</p>]):::first\n",
            "\tstretch_coach(stretch_coach)\n",
            "\ttools(tools)\n",
            "\t__end__([<p>__end__</p>]):::last\n",
            "\t__start__ --> stretch_coach;\n",
            "\tstretch_coach -.-> tools;\n",
            "\ttools --> stretch_coach;\n",
            "\tstretch_coach -.-> __end__;\n",
            "\tclassDef default fill:#f2f0ff,line-height:1.2\n",
            "\tclassDef first fill-opacity:0\n",
            "\tclassDef last fill:#bfb6fc\n",
            "\n"
          ]
        }
      ]
    },
    {
      "cell_type": "code",
      "source": [
        "messages"
      ],
      "metadata": {
        "colab": {
          "base_uri": "https://localhost:8080/"
        },
        "id": "2LOezqP9cPKt",
        "outputId": "5b2cac75-bd91-4b73-9899-f0fe732ead39"
      },
      "execution_count": null,
      "outputs": [
        {
          "output_type": "execute_result",
          "data": {
            "text/plain": [
              "[HumanMessage(content=\"Hello, I'm feeling discomfort in my hips. I'm hoping you can help me create a stretching routine to alleviate some of this pain and improve my flexibility.\", additional_kwargs={}, response_metadata={})]"
            ]
          },
          "metadata": {},
          "execution_count": 16
        }
      ]
    },
    {
      "cell_type": "code",
      "source": [
        "messages = runnable_graph.invoke({'messages': messages})"
      ],
      "metadata": {
        "id": "B7tqqTqNbgQf"
      },
      "execution_count": null,
      "outputs": []
    },
    {
      "cell_type": "code",
      "source": [
        "for m in messages['messages']:\n",
        "    m.pretty_print()"
      ],
      "metadata": {
        "colab": {
          "base_uri": "https://localhost:8080/"
        },
        "id": "DBJe-GZCcQMb",
        "outputId": "fa07f166-7185-42c0-b6ef-28e3c789c764"
      },
      "execution_count": null,
      "outputs": [
        {
          "output_type": "stream",
          "name": "stdout",
          "text": [
            "================================\u001b[1m Human Message \u001b[0m=================================\n",
            "\n",
            "Hello, I'm feeling discomfort in my hips. I'm hoping you can help me create a stretching routine to alleviate some of this pain and improve my flexibility.\n",
            "==================================\u001b[1m Ai Message \u001b[0m==================================\n",
            "Tool Calls:\n",
            "  get_stretches (call_Fdjj80irrLURazobJzXS2KSQ)\n",
            " Call ID: call_Fdjj80irrLURazobJzXS2KSQ\n",
            "  Args:\n",
            "=================================\u001b[1m Tool Message \u001b[0m=================================\n",
            "Name: get_stretches\n",
            "\n",
            "[\"Archer Pose\", \"Four Corner Stretch\", \"Revolved Paying Homage\", \"Reverse Prayer\", \"Root Lock\"]\n",
            "==================================\u001b[1m Ai Message \u001b[0m==================================\n",
            "\n",
            "Hello, of course I can help you with that! I know a lot of good hip stretches that you can try. First, I'd like to know how much time you'd like to allot for stretching. Is five minutes ok?\n"
          ]
        }
      ]
    },
    {
      "cell_type": "code",
      "source": [
        "messages"
      ],
      "metadata": {
        "colab": {
          "base_uri": "https://localhost:8080/"
        },
        "id": "kyzUzo7MdzZ7",
        "outputId": "312785d3-2a43-444b-d78f-fdb0153b6aca"
      },
      "execution_count": null,
      "outputs": [
        {
          "output_type": "execute_result",
          "data": {
            "text/plain": [
              "{'messages': [HumanMessage(content=\"Hello, I'm feeling discomfort in my hips. I'm hoping you can help me create a stretching routine to alleviate some of this pain and improve my flexibility.\", additional_kwargs={}, response_metadata={}, id='2b5076aa-da2c-4105-a8bb-46ea3b442217'),\n",
              "  AIMessage(content='', additional_kwargs={'tool_calls': [{'id': 'call_Fdjj80irrLURazobJzXS2KSQ', 'function': {'arguments': '{}', 'name': 'get_stretches'}, 'type': 'function'}], 'refusal': None}, response_metadata={'token_usage': {'completion_tokens': 13, 'prompt_tokens': 492, 'total_tokens': 505, 'completion_tokens_details': {'accepted_prediction_tokens': 0, 'audio_tokens': 0, 'reasoning_tokens': 0, 'rejected_prediction_tokens': 0}, 'prompt_tokens_details': {'audio_tokens': 0, 'cached_tokens': 0}}, 'model_name': 'gpt-4o-mini-2024-07-18', 'system_fingerprint': 'fp_0392822090', 'id': 'chatcmpl-BPxN98RexKqHtkKiYshOJs3esbzte', 'finish_reason': 'tool_calls', 'logprobs': None}, id='run-ede59977-58d8-4af8-86cc-8c1f18811539-0', tool_calls=[{'name': 'get_stretches', 'args': {}, 'id': 'call_Fdjj80irrLURazobJzXS2KSQ', 'type': 'tool_call'}], usage_metadata={'input_tokens': 492, 'output_tokens': 13, 'total_tokens': 505, 'input_token_details': {'audio': 0, 'cache_read': 0}, 'output_token_details': {'audio': 0, 'reasoning': 0}}),\n",
              "  ToolMessage(content='[\"Archer Pose\", \"Four Corner Stretch\", \"Revolved Paying Homage\", \"Reverse Prayer\", \"Root Lock\"]', name='get_stretches', id='54d3fbb3-ec68-4338-b722-c1ebdc5571b5', tool_call_id='call_Fdjj80irrLURazobJzXS2KSQ'),\n",
              "  AIMessage(content=\"Hello, of course I can help you with that! I know a lot of good hip stretches that you can try. First, I'd like to know how much time you'd like to allot for stretching. Is five minutes ok?\", additional_kwargs={'refusal': None}, response_metadata={'token_usage': {'completion_tokens': 47, 'prompt_tokens': 926, 'total_tokens': 973, 'completion_tokens_details': {'accepted_prediction_tokens': 0, 'audio_tokens': 0, 'reasoning_tokens': 0, 'rejected_prediction_tokens': 0}, 'prompt_tokens_details': {'audio_tokens': 0, 'cached_tokens': 0}}, 'model_name': 'gpt-4o-mini-2024-07-18', 'system_fingerprint': 'fp_0392822090', 'id': 'chatcmpl-BPxNA6oCVGHfQEOBc9u5y4fr9SCMc', 'finish_reason': 'stop', 'logprobs': None}, id='run-20fc1dd5-93fe-412e-ac1b-68399ae2a24c-0', usage_metadata={'input_tokens': 926, 'output_tokens': 47, 'total_tokens': 973, 'input_token_details': {'audio': 0, 'cache_read': 0}, 'output_token_details': {'audio': 0, 'reasoning': 0}})]}"
            ]
          },
          "metadata": {},
          "execution_count": 20
        }
      ]
    },
    {
      "cell_type": "code",
      "source": [
        "messages.append(HumanMessage(content=\"I'd like to stretch for 20 minutes.\"))"
      ],
      "metadata": {
        "colab": {
          "base_uri": "https://localhost:8080/",
          "height": 144
        },
        "id": "nFCTARtQeAe1",
        "outputId": "fc6a4db9-302e-40ca-90f6-65f1c7c92798"
      },
      "execution_count": null,
      "outputs": [
        {
          "output_type": "error",
          "ename": "AttributeError",
          "evalue": "'AddableValuesDict' object has no attribute 'append'",
          "traceback": [
            "\u001b[0;31m---------------------------------------------------------------------------\u001b[0m",
            "\u001b[0;31mAttributeError\u001b[0m                            Traceback (most recent call last)",
            "\u001b[0;32m<ipython-input-21-641ea6f60477>\u001b[0m in \u001b[0;36m<cell line: 0>\u001b[0;34m()\u001b[0m\n\u001b[0;32m----> 1\u001b[0;31m \u001b[0mmessages\u001b[0m\u001b[0;34m.\u001b[0m\u001b[0mappend\u001b[0m\u001b[0;34m(\u001b[0m\u001b[0mHumanMessage\u001b[0m\u001b[0;34m(\u001b[0m\u001b[0mcontent\u001b[0m\u001b[0;34m=\u001b[0m\u001b[0;34m\"I'd like to stretch for 20 minutes.\"\u001b[0m\u001b[0;34m)\u001b[0m\u001b[0;34m)\u001b[0m\u001b[0;34m\u001b[0m\u001b[0;34m\u001b[0m\u001b[0m\n\u001b[0m",
            "\u001b[0;31mAttributeError\u001b[0m: 'AddableValuesDict' object has no attribute 'append'"
          ]
        }
      ]
    },
    {
      "cell_type": "code",
      "source": [
        "from langgraph.graph.message import add_messages\n",
        "\n",
        "new_message = HumanMessage(content=\"I'd like to stretch for 20 minutes.\")\n",
        "\n",
        "add_messages(messages, new_message)"
      ],
      "metadata": {
        "colab": {
          "base_uri": "https://localhost:8080/",
          "height": 722
        },
        "id": "ubx1xMP3etGX",
        "outputId": "7570738d-036d-43bc-9349-e4df73536947"
      },
      "execution_count": null,
      "outputs": [
        {
          "output_type": "error",
          "ename": "ValueError",
          "evalue": "Message dict must contain 'role' and 'content' keys, got {'messages': [HumanMessage(content=\"Hello, I'm feeling discomfort in my hips. I'm hoping you can help me create a stretching routine to alleviate some of this pain and improve my flexibility.\", additional_kwargs={}, response_metadata={}, id='2b5076aa-da2c-4105-a8bb-46ea3b442217'), AIMessage(content='', additional_kwargs={'tool_calls': [{'id': 'call_Fdjj80irrLURazobJzXS2KSQ', 'function': {'arguments': '{}', 'name': 'get_stretches'}, 'type': 'function'}], 'refusal': None}, response_metadata={'token_usage': {'completion_tokens': 13, 'prompt_tokens': 492, 'total_tokens': 505, 'completion_tokens_details': {'accepted_prediction_tokens': 0, 'audio_tokens': 0, 'reasoning_tokens': 0, 'rejected_prediction_tokens': 0}, 'prompt_tokens_details': {'audio_tokens': 0, 'cached_tokens': 0}}, 'model_name': 'gpt-4o-mini-2024-07-18', 'system_fingerprint': 'fp_0392822090', 'id': 'chatcmpl-BPxN98RexKqHtkKiYshOJs3esbzte', 'finish_reason': 'tool_calls', 'logprobs': None}, id='run-ede59977-58d8-4af8-86cc-8c1f18811539-0', tool_calls=[{'name': 'get_stretches', 'args': {}, 'id': 'call_Fdjj80irrLURazobJzXS2KSQ', 'type': 'tool_call'}], usage_metadata={'input_tokens': 492, 'output_tokens': 13, 'total_tokens': 505, 'input_token_details': {'audio': 0, 'cache_read': 0}, 'output_token_details': {'audio': 0, 'reasoning': 0}}), ToolMessage(content='[\"Archer Pose\", \"Four Corner Stretch\", \"Revolved Paying Homage\", \"Reverse Prayer\", \"Root Lock\"]', name='get_stretches', id='54d3fbb3-ec68-4338-b722-c1ebdc5571b5', tool_call_id='call_Fdjj80irrLURazobJzXS2KSQ'), AIMessage(content=\"Hello, of course I can help you with that! I know a lot of good hip stretches that you can try. First, I'd like to know how much time you'd like to allot for stretching. Is five minutes ok?\", additional_kwargs={'refusal': None}, response_metadata={'token_usage': {'completion_tokens': 47, 'prompt_tokens': 926, 'total_tokens': 973, 'completion_tokens_details': {'accepted_prediction_tokens': 0, 'audio_tokens': 0, 'reasoning_tokens': 0, 'rejected_prediction_tokens': 0}, 'prompt_tokens_details': {'audio_tokens': 0, 'cached_tokens': 0}}, 'model_name': 'gpt-4o-mini-2024-07-18', 'system_fingerprint': 'fp_0392822090', 'id': 'chatcmpl-BPxNA6oCVGHfQEOBc9u5y4fr9SCMc', 'finish_reason': 'stop', 'logprobs': None}, id='run-20fc1dd5-93fe-412e-ac1b-68399ae2a24c-0', usage_metadata={'input_tokens': 926, 'output_tokens': 47, 'total_tokens': 973, 'input_token_details': {'audio': 0, 'cache_read': 0}, 'output_token_details': {'audio': 0, 'reasoning': 0}})]}\nFor troubleshooting, visit: https://python.langchain.com/docs/troubleshooting/errors/MESSAGE_COERCION_FAILURE ",
          "traceback": [
            "\u001b[0;31m---------------------------------------------------------------------------\u001b[0m",
            "\u001b[0;31mKeyError\u001b[0m                                  Traceback (most recent call last)",
            "\u001b[0;32m/usr/local/lib/python3.11/dist-packages/langchain_core/messages/utils.py\u001b[0m in \u001b[0;36m_convert_to_message\u001b[0;34m(message)\u001b[0m\n\u001b[1;32m    328\u001b[0m             \u001b[0;32mtry\u001b[0m\u001b[0;34m:\u001b[0m\u001b[0;34m\u001b[0m\u001b[0;34m\u001b[0m\u001b[0m\n\u001b[0;32m--> 329\u001b[0;31m                 \u001b[0mmsg_type\u001b[0m \u001b[0;34m=\u001b[0m \u001b[0mmsg_kwargs\u001b[0m\u001b[0;34m.\u001b[0m\u001b[0mpop\u001b[0m\u001b[0;34m(\u001b[0m\u001b[0;34m\"role\"\u001b[0m\u001b[0;34m)\u001b[0m\u001b[0;34m\u001b[0m\u001b[0;34m\u001b[0m\u001b[0m\n\u001b[0m\u001b[1;32m    330\u001b[0m             \u001b[0;32mexcept\u001b[0m \u001b[0mKeyError\u001b[0m\u001b[0;34m:\u001b[0m\u001b[0;34m\u001b[0m\u001b[0;34m\u001b[0m\u001b[0m\n",
            "\u001b[0;31mKeyError\u001b[0m: 'role'",
            "\nDuring handling of the above exception, another exception occurred:\n",
            "\u001b[0;31mKeyError\u001b[0m                                  Traceback (most recent call last)",
            "\u001b[0;32m/usr/local/lib/python3.11/dist-packages/langchain_core/messages/utils.py\u001b[0m in \u001b[0;36m_convert_to_message\u001b[0;34m(message)\u001b[0m\n\u001b[1;32m    330\u001b[0m             \u001b[0;32mexcept\u001b[0m \u001b[0mKeyError\u001b[0m\u001b[0;34m:\u001b[0m\u001b[0;34m\u001b[0m\u001b[0;34m\u001b[0m\u001b[0m\n\u001b[0;32m--> 331\u001b[0;31m                 \u001b[0mmsg_type\u001b[0m \u001b[0;34m=\u001b[0m \u001b[0mmsg_kwargs\u001b[0m\u001b[0;34m.\u001b[0m\u001b[0mpop\u001b[0m\u001b[0;34m(\u001b[0m\u001b[0;34m\"type\"\u001b[0m\u001b[0;34m)\u001b[0m\u001b[0;34m\u001b[0m\u001b[0;34m\u001b[0m\u001b[0m\n\u001b[0m\u001b[1;32m    332\u001b[0m             \u001b[0;31m# None msg content is not allowed\u001b[0m\u001b[0;34m\u001b[0m\u001b[0;34m\u001b[0m\u001b[0m\n",
            "\u001b[0;31mKeyError\u001b[0m: 'type'",
            "\nThe above exception was the direct cause of the following exception:\n",
            "\u001b[0;31mValueError\u001b[0m                                Traceback (most recent call last)",
            "\u001b[0;32m<ipython-input-22-6ff1a1980adc>\u001b[0m in \u001b[0;36m<cell line: 0>\u001b[0;34m()\u001b[0m\n\u001b[1;32m      3\u001b[0m \u001b[0mnew_message\u001b[0m \u001b[0;34m=\u001b[0m \u001b[0mHumanMessage\u001b[0m\u001b[0;34m(\u001b[0m\u001b[0mcontent\u001b[0m\u001b[0;34m=\u001b[0m\u001b[0;34m\"I'd like to stretch for 20 minutes.\"\u001b[0m\u001b[0;34m)\u001b[0m\u001b[0;34m\u001b[0m\u001b[0;34m\u001b[0m\u001b[0m\n\u001b[1;32m      4\u001b[0m \u001b[0;34m\u001b[0m\u001b[0m\n\u001b[0;32m----> 5\u001b[0;31m \u001b[0madd_messages\u001b[0m\u001b[0;34m(\u001b[0m\u001b[0mmessages\u001b[0m\u001b[0;34m,\u001b[0m \u001b[0mnew_message\u001b[0m\u001b[0;34m)\u001b[0m\u001b[0;34m\u001b[0m\u001b[0;34m\u001b[0m\u001b[0m\n\u001b[0m",
            "\u001b[0;32m/usr/local/lib/python3.11/dist-packages/langgraph/graph/message.py\u001b[0m in \u001b[0;36m_add_messages\u001b[0;34m(left, right, **kwargs)\u001b[0m\n\u001b[1;32m     36\u001b[0m     ) -> Union[Messages, Callable[[Messages, Messages], Messages]]:\n\u001b[1;32m     37\u001b[0m         \u001b[0;32mif\u001b[0m \u001b[0mleft\u001b[0m \u001b[0;32mis\u001b[0m \u001b[0;32mnot\u001b[0m \u001b[0;32mNone\u001b[0m \u001b[0;32mand\u001b[0m \u001b[0mright\u001b[0m \u001b[0;32mis\u001b[0m \u001b[0;32mnot\u001b[0m \u001b[0;32mNone\u001b[0m\u001b[0;34m:\u001b[0m\u001b[0;34m\u001b[0m\u001b[0;34m\u001b[0m\u001b[0m\n\u001b[0;32m---> 38\u001b[0;31m             \u001b[0;32mreturn\u001b[0m \u001b[0mfunc\u001b[0m\u001b[0;34m(\u001b[0m\u001b[0mleft\u001b[0m\u001b[0;34m,\u001b[0m \u001b[0mright\u001b[0m\u001b[0;34m,\u001b[0m \u001b[0;34m**\u001b[0m\u001b[0mkwargs\u001b[0m\u001b[0;34m)\u001b[0m\u001b[0;34m\u001b[0m\u001b[0;34m\u001b[0m\u001b[0m\n\u001b[0m\u001b[1;32m     39\u001b[0m         \u001b[0;32melif\u001b[0m \u001b[0mleft\u001b[0m \u001b[0;32mis\u001b[0m \u001b[0;32mnot\u001b[0m \u001b[0;32mNone\u001b[0m \u001b[0;32mor\u001b[0m \u001b[0mright\u001b[0m \u001b[0;32mis\u001b[0m \u001b[0;32mnot\u001b[0m \u001b[0;32mNone\u001b[0m\u001b[0;34m:\u001b[0m\u001b[0;34m\u001b[0m\u001b[0;34m\u001b[0m\u001b[0m\n\u001b[1;32m     40\u001b[0m             msg = (\n",
            "\u001b[0;32m/usr/local/lib/python3.11/dist-packages/langgraph/graph/message.py\u001b[0m in \u001b[0;36madd_messages\u001b[0;34m(left, right, format)\u001b[0m\n\u001b[1;32m    170\u001b[0m     left = [\n\u001b[1;32m    171\u001b[0m         \u001b[0mmessage_chunk_to_message\u001b[0m\u001b[0;34m(\u001b[0m\u001b[0mcast\u001b[0m\u001b[0;34m(\u001b[0m\u001b[0mBaseMessageChunk\u001b[0m\u001b[0;34m,\u001b[0m \u001b[0mm\u001b[0m\u001b[0;34m)\u001b[0m\u001b[0;34m)\u001b[0m\u001b[0;34m\u001b[0m\u001b[0;34m\u001b[0m\u001b[0m\n\u001b[0;32m--> 172\u001b[0;31m         \u001b[0;32mfor\u001b[0m \u001b[0mm\u001b[0m \u001b[0;32min\u001b[0m \u001b[0mconvert_to_messages\u001b[0m\u001b[0;34m(\u001b[0m\u001b[0mleft\u001b[0m\u001b[0;34m)\u001b[0m\u001b[0;34m\u001b[0m\u001b[0;34m\u001b[0m\u001b[0m\n\u001b[0m\u001b[1;32m    173\u001b[0m     ]\n\u001b[1;32m    174\u001b[0m     right = [\n",
            "\u001b[0;32m/usr/local/lib/python3.11/dist-packages/langchain_core/messages/utils.py\u001b[0m in \u001b[0;36mconvert_to_messages\u001b[0;34m(messages)\u001b[0m\n\u001b[1;32m    365\u001b[0m     \u001b[0;32mif\u001b[0m \u001b[0misinstance\u001b[0m\u001b[0;34m(\u001b[0m\u001b[0mmessages\u001b[0m\u001b[0;34m,\u001b[0m \u001b[0mPromptValue\u001b[0m\u001b[0;34m)\u001b[0m\u001b[0;34m:\u001b[0m\u001b[0;34m\u001b[0m\u001b[0;34m\u001b[0m\u001b[0m\n\u001b[1;32m    366\u001b[0m         \u001b[0;32mreturn\u001b[0m \u001b[0mmessages\u001b[0m\u001b[0;34m.\u001b[0m\u001b[0mto_messages\u001b[0m\u001b[0;34m(\u001b[0m\u001b[0;34m)\u001b[0m\u001b[0;34m\u001b[0m\u001b[0;34m\u001b[0m\u001b[0m\n\u001b[0;32m--> 367\u001b[0;31m     \u001b[0;32mreturn\u001b[0m \u001b[0;34m[\u001b[0m\u001b[0m_convert_to_message\u001b[0m\u001b[0;34m(\u001b[0m\u001b[0mm\u001b[0m\u001b[0;34m)\u001b[0m \u001b[0;32mfor\u001b[0m \u001b[0mm\u001b[0m \u001b[0;32min\u001b[0m \u001b[0mmessages\u001b[0m\u001b[0;34m]\u001b[0m\u001b[0;34m\u001b[0m\u001b[0;34m\u001b[0m\u001b[0m\n\u001b[0m\u001b[1;32m    368\u001b[0m \u001b[0;34m\u001b[0m\u001b[0m\n\u001b[1;32m    369\u001b[0m \u001b[0;34m\u001b[0m\u001b[0m\n",
            "\u001b[0;32m/usr/local/lib/python3.11/dist-packages/langchain_core/messages/utils.py\u001b[0m in \u001b[0;36m<listcomp>\u001b[0;34m(.0)\u001b[0m\n\u001b[1;32m    365\u001b[0m     \u001b[0;32mif\u001b[0m \u001b[0misinstance\u001b[0m\u001b[0;34m(\u001b[0m\u001b[0mmessages\u001b[0m\u001b[0;34m,\u001b[0m \u001b[0mPromptValue\u001b[0m\u001b[0;34m)\u001b[0m\u001b[0;34m:\u001b[0m\u001b[0;34m\u001b[0m\u001b[0;34m\u001b[0m\u001b[0m\n\u001b[1;32m    366\u001b[0m         \u001b[0;32mreturn\u001b[0m \u001b[0mmessages\u001b[0m\u001b[0;34m.\u001b[0m\u001b[0mto_messages\u001b[0m\u001b[0;34m(\u001b[0m\u001b[0;34m)\u001b[0m\u001b[0;34m\u001b[0m\u001b[0;34m\u001b[0m\u001b[0m\n\u001b[0;32m--> 367\u001b[0;31m     \u001b[0;32mreturn\u001b[0m \u001b[0;34m[\u001b[0m\u001b[0m_convert_to_message\u001b[0m\u001b[0;34m(\u001b[0m\u001b[0mm\u001b[0m\u001b[0;34m)\u001b[0m \u001b[0;32mfor\u001b[0m \u001b[0mm\u001b[0m \u001b[0;32min\u001b[0m \u001b[0mmessages\u001b[0m\u001b[0;34m]\u001b[0m\u001b[0;34m\u001b[0m\u001b[0;34m\u001b[0m\u001b[0m\n\u001b[0m\u001b[1;32m    368\u001b[0m \u001b[0;34m\u001b[0m\u001b[0m\n\u001b[1;32m    369\u001b[0m \u001b[0;34m\u001b[0m\u001b[0m\n",
            "\u001b[0;32m/usr/local/lib/python3.11/dist-packages/langchain_core/messages/utils.py\u001b[0m in \u001b[0;36m_convert_to_message\u001b[0;34m(message)\u001b[0m\n\u001b[1;32m    337\u001b[0m                 \u001b[0mmessage\u001b[0m\u001b[0;34m=\u001b[0m\u001b[0mmsg\u001b[0m\u001b[0;34m,\u001b[0m \u001b[0merror_code\u001b[0m\u001b[0;34m=\u001b[0m\u001b[0mErrorCode\u001b[0m\u001b[0;34m.\u001b[0m\u001b[0mMESSAGE_COERCION_FAILURE\u001b[0m\u001b[0;34m\u001b[0m\u001b[0;34m\u001b[0m\u001b[0m\n\u001b[1;32m    338\u001b[0m             )\n\u001b[0;32m--> 339\u001b[0;31m             \u001b[0;32mraise\u001b[0m \u001b[0mValueError\u001b[0m\u001b[0;34m(\u001b[0m\u001b[0mmsg\u001b[0m\u001b[0;34m)\u001b[0m \u001b[0;32mfrom\u001b[0m \u001b[0me\u001b[0m\u001b[0;34m\u001b[0m\u001b[0;34m\u001b[0m\u001b[0m\n\u001b[0m\u001b[1;32m    340\u001b[0m         _message = _create_message_from_message_type(\n\u001b[1;32m    341\u001b[0m             \u001b[0mmsg_type\u001b[0m\u001b[0;34m,\u001b[0m \u001b[0mmsg_content\u001b[0m\u001b[0;34m,\u001b[0m \u001b[0;34m**\u001b[0m\u001b[0mmsg_kwargs\u001b[0m\u001b[0;34m\u001b[0m\u001b[0;34m\u001b[0m\u001b[0m\n",
            "\u001b[0;31mValueError\u001b[0m: Message dict must contain 'role' and 'content' keys, got {'messages': [HumanMessage(content=\"Hello, I'm feeling discomfort in my hips. I'm hoping you can help me create a stretching routine to alleviate some of this pain and improve my flexibility.\", additional_kwargs={}, response_metadata={}, id='2b5076aa-da2c-4105-a8bb-46ea3b442217'), AIMessage(content='', additional_kwargs={'tool_calls': [{'id': 'call_Fdjj80irrLURazobJzXS2KSQ', 'function': {'arguments': '{}', 'name': 'get_stretches'}, 'type': 'function'}], 'refusal': None}, response_metadata={'token_usage': {'completion_tokens': 13, 'prompt_tokens': 492, 'total_tokens': 505, 'completion_tokens_details': {'accepted_prediction_tokens': 0, 'audio_tokens': 0, 'reasoning_tokens': 0, 'rejected_prediction_tokens': 0}, 'prompt_tokens_details': {'audio_tokens': 0, 'cached_tokens': 0}}, 'model_name': 'gpt-4o-mini-2024-07-18', 'system_fingerprint': 'fp_0392822090', 'id': 'chatcmpl-BPxN98RexKqHtkKiYshOJs3esbzte', 'finish_reason': 'tool_calls', 'logprobs': None}, id='run-ede59977-58d8-4af8-86cc-8c1f18811539-0', tool_calls=[{'name': 'get_stretches', 'args': {}, 'id': 'call_Fdjj80irrLURazobJzXS2KSQ', 'type': 'tool_call'}], usage_metadata={'input_tokens': 492, 'output_tokens': 13, 'total_tokens': 505, 'input_token_details': {'audio': 0, 'cache_read': 0}, 'output_token_details': {'audio': 0, 'reasoning': 0}}), ToolMessage(content='[\"Archer Pose\", \"Four Corner Stretch\", \"Revolved Paying Homage\", \"Reverse Prayer\", \"...\nFor troubleshooting, visit: https://python.langchain.com/docs/troubleshooting/errors/MESSAGE_COERCION_FAILURE "
          ]
        }
      ]
    },
    {
      "cell_type": "code",
      "source": [
        "type(messages)"
      ],
      "metadata": {
        "colab": {
          "base_uri": "https://localhost:8080/"
        },
        "id": "_IORBRZYfOD4",
        "outputId": "849d323e-66c9-4b13-a245-ff5e2ac3e00d"
      },
      "execution_count": null,
      "outputs": [
        {
          "output_type": "execute_result",
          "data": {
            "text/plain": [
              "langgraph.pregel.io.AddableValuesDict"
            ]
          },
          "metadata": {},
          "execution_count": 23
        }
      ]
    },
    {
      "cell_type": "code",
      "source": [
        "messages.values()"
      ],
      "metadata": {
        "colab": {
          "base_uri": "https://localhost:8080/"
        },
        "id": "5MXY1gOTfii_",
        "outputId": "1968de8b-7217-4883-b11f-22b86213b7e3"
      },
      "execution_count": null,
      "outputs": [
        {
          "output_type": "execute_result",
          "data": {
            "text/plain": [
              "dict_values([[HumanMessage(content=\"Hello, I'm feeling discomfort in my hips. I'm hoping you can help me create a stretching routine to alleviate some of this pain and improve my flexibility.\", additional_kwargs={}, response_metadata={}, id='2b5076aa-da2c-4105-a8bb-46ea3b442217'), AIMessage(content='', additional_kwargs={'tool_calls': [{'id': 'call_Fdjj80irrLURazobJzXS2KSQ', 'function': {'arguments': '{}', 'name': 'get_stretches'}, 'type': 'function'}], 'refusal': None}, response_metadata={'token_usage': {'completion_tokens': 13, 'prompt_tokens': 492, 'total_tokens': 505, 'completion_tokens_details': {'accepted_prediction_tokens': 0, 'audio_tokens': 0, 'reasoning_tokens': 0, 'rejected_prediction_tokens': 0}, 'prompt_tokens_details': {'audio_tokens': 0, 'cached_tokens': 0}}, 'model_name': 'gpt-4o-mini-2024-07-18', 'system_fingerprint': 'fp_0392822090', 'id': 'chatcmpl-BPxN98RexKqHtkKiYshOJs3esbzte', 'finish_reason': 'tool_calls', 'logprobs': None}, id='run-ede59977-58d8-4af8-86cc-8c1f18811539-0', tool_calls=[{'name': 'get_stretches', 'args': {}, 'id': 'call_Fdjj80irrLURazobJzXS2KSQ', 'type': 'tool_call'}], usage_metadata={'input_tokens': 492, 'output_tokens': 13, 'total_tokens': 505, 'input_token_details': {'audio': 0, 'cache_read': 0}, 'output_token_details': {'audio': 0, 'reasoning': 0}}), ToolMessage(content='[\"Archer Pose\", \"Four Corner Stretch\", \"Revolved Paying Homage\", \"Reverse Prayer\", \"Root Lock\"]', name='get_stretches', id='54d3fbb3-ec68-4338-b722-c1ebdc5571b5', tool_call_id='call_Fdjj80irrLURazobJzXS2KSQ'), AIMessage(content=\"Hello, of course I can help you with that! I know a lot of good hip stretches that you can try. First, I'd like to know how much time you'd like to allot for stretching. Is five minutes ok?\", additional_kwargs={'refusal': None}, response_metadata={'token_usage': {'completion_tokens': 47, 'prompt_tokens': 926, 'total_tokens': 973, 'completion_tokens_details': {'accepted_prediction_tokens': 0, 'audio_tokens': 0, 'reasoning_tokens': 0, 'rejected_prediction_tokens': 0}, 'prompt_tokens_details': {'audio_tokens': 0, 'cached_tokens': 0}}, 'model_name': 'gpt-4o-mini-2024-07-18', 'system_fingerprint': 'fp_0392822090', 'id': 'chatcmpl-BPxNA6oCVGHfQEOBc9u5y4fr9SCMc', 'finish_reason': 'stop', 'logprobs': None}, id='run-20fc1dd5-93fe-412e-ac1b-68399ae2a24c-0', usage_metadata={'input_tokens': 926, 'output_tokens': 47, 'total_tokens': 973, 'input_token_details': {'audio': 0, 'cache_read': 0}, 'output_token_details': {'audio': 0, 'reasoning': 0}})]])"
            ]
          },
          "metadata": {},
          "execution_count": 25
        }
      ]
    },
    {
      "cell_type": "code",
      "source": [],
      "metadata": {
        "id": "AuRRo22LfyUx"
      },
      "execution_count": null,
      "outputs": []
    }
  ]
}