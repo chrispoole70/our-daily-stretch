{
  "nbformat": 4,
  "nbformat_minor": 0,
  "metadata": {
    "colab": {
      "provenance": [],
      "authorship_tag": "ABX9TyMcSUautJFNZQCFIaQZIWVx",
      "include_colab_link": true
    },
    "kernelspec": {
      "name": "python3",
      "display_name": "Python 3"
    },
    "language_info": {
      "name": "python"
    }
  },
  "cells": [
    {
      "cell_type": "markdown",
      "metadata": {
        "id": "view-in-github",
        "colab_type": "text"
      },
      "source": [
        "<a href=\"https://colab.research.google.com/github/chrispoole70/our-daily-stretch/blob/main/our_daily_stretch_agent.ipynb\" target=\"_parent\"><img src=\"https://colab.research.google.com/assets/colab-badge.svg\" alt=\"Open In Colab\"/></a>"
      ]
    },
    {
      "cell_type": "markdown",
      "source": [
        "The goal for this agent is to be a stretching coach. The user could describe what's causing them discomfort and ask the coach for stretches to do. Then the coach could share a daily stretching plan with them and send a reminder to stretch.\n",
        "\n",
        "---\n",
        "\n",
        "**Here's an example ideal conversation:**\n",
        "* Human: Hello, I'm feeling discomfort in my hips. I'm hoping you can help me create a stretching routine to alleviate some of this pain and improve my flexibility.\n",
        "* AI: Hello, of course I can help you with that! I know a lot of good hip stretches that you can try. First, I'd like to know how much time you'd like to allot for stretching. Is five minutes ok?\n",
        "* Human: Sure, five minutes sounds good.\n",
        "* AI: Ok. Here are five hip stretches you could do for one minute each:\n",
        "   1. _Stretch 1_\n",
        "   2. _Stretch 2_\n",
        "   3. _Stretch 3_\n",
        "   4. _Stretch 4_\n",
        "   5. _Stretch 5_\n",
        "\n",
        "  How does this stretch plan look?\n",
        "* Human: I think it looks good, let me give it a try.\n",
        "* AI: Sure thing! Would you like me to send you a reminder to stretch?\n",
        "* Human: Yeah, that would be helpful.\n",
        "* AI: Great, I will send this stretch plan to you as a reminder. Would you like me to send it as a text message to your phone?\n",
        "* Human: Yeah, that works.\n",
        "* AI: Great, and how often would you like to stretch? I can send you a reminder everyday, for example.\n",
        "* Human: Stretching everyday would be a good goal for me. Sure, you can send me a reminder everyday before I go to bed, around 9PM.\n",
        "* AI: Absolutely! I will send this stretch plan to you tonight around 9PM via text message. Then I will send subsequent reminders everyday at 9PM. Good luck with the stretching and please let me know how it goes! I'm here to help if you want to revise your plan.\n",
        "* Human: Thanks! I'll do the stretches and check in with you later.\n",
        "\n",
        "---\n",
        "\n",
        "**Here's a short conversation to get started with:**\n",
        "* Human: Can you create a stretching routine for me? I'd like to focus on hip stretches to improve my flexibility. The plan should have five stretches that I can do for one minute each.\n",
        "* AI: No problem! Here are five hip stretches you can do for one minute each:\n",
        "   1. _Stretch 1_\n",
        "   2. _Stretch 2_\n",
        "   3. _Stretch 3_\n",
        "   4. _Stretch 4_\n",
        "   5. _Stretch 5_\n"
      ],
      "metadata": {
        "id": "9kYIrJRKhDXJ"
      }
    },
    {
      "cell_type": "code",
      "source": [
        "%%capture --no-stderr\n",
        "%pip install --quiet -U langchain_openai langchain_core langgraph"
      ],
      "metadata": {
        "id": "QW8d03tWhixa"
      },
      "execution_count": 1,
      "outputs": []
    },
    {
      "cell_type": "code",
      "source": [
        "import os\n",
        "\n",
        "from google.colab import userdata\n",
        "from IPython.display import Image, display\n",
        "from langchain_core.messages import HumanMessage, SystemMessage\n",
        "from langchain_core.prompts import ChatPromptTemplate, MessagesPlaceholder\n",
        "from langchain_openai import ChatOpenAI\n",
        "from langgraph.graph import MessagesState, START, StateGraph\n",
        "from langgraph.checkpoint.memory import MemorySaver\n",
        "from langgraph.prebuilt import ToolNode, tools_condition"
      ],
      "metadata": {
        "id": "hV-F62R6mBqX"
      },
      "execution_count": 29,
      "outputs": []
    },
    {
      "cell_type": "code",
      "source": [
        "def _set_env(var: str):\n",
        "    if not os.environ.get(var):\n",
        "        os.environ[var] = userdata.get(var)\n",
        "\n",
        "_set_env(\"OPENAI_API_KEY\")"
      ],
      "metadata": {
        "id": "Z6LNGAZ_maEQ"
      },
      "execution_count": 2,
      "outputs": []
    },
    {
      "cell_type": "markdown",
      "source": [
        "# Short Conversation"
      ],
      "metadata": {
        "id": "lwWPQ0jrXfcf"
      }
    },
    {
      "cell_type": "markdown",
      "source": [
        "First, let's reverse engineer the application by starting with the short human conversation..."
      ],
      "metadata": {
        "id": "pI2PYEUImrX_"
      }
    },
    {
      "cell_type": "code",
      "source": [
        "messages = [HumanMessage(content=\"\"\"\n",
        "Can you create a stretching routine for me? I'd like to focus on stretches to improve my flexibility.\n",
        "The plan should have five stretches that I can do for one minute each.\n",
        "\"\"\")]"
      ],
      "metadata": {
        "id": "_uqJP7KsnP2y"
      },
      "execution_count": 4,
      "outputs": []
    },
    {
      "cell_type": "markdown",
      "source": [
        "Next, let's instantiate our LLM..."
      ],
      "metadata": {
        "id": "gO-uLuQQrT_6"
      }
    },
    {
      "cell_type": "code",
      "source": [
        "llm = ChatOpenAI(model=\"gpt-4o-mini\")"
      ],
      "metadata": {
        "id": "IbUP0Q4XrZue"
      },
      "execution_count": 7,
      "outputs": []
    },
    {
      "cell_type": "markdown",
      "source": [
        "Based on the short human message, we know that there will need to be a tool call to get the list of stretches..."
      ],
      "metadata": {
        "id": "fyyq_UulrmvA"
      }
    },
    {
      "cell_type": "code",
      "source": [
        "from typing import List\n",
        "\n",
        "def get_stretches() -> List[str]:\n",
        "  ''' Returns a list of stretches\n",
        "  '''\n",
        "  return [\n",
        "      'Archer Pose',\n",
        "      'Four Corner Stretch',\n",
        "      'Revolved Paying Homage',\n",
        "      'Reverse Prayer',\n",
        "      'Root Lock'\n",
        "      ]\n",
        "\n",
        "tools = [get_stretches]"
      ],
      "metadata": {
        "id": "67SbsTC0rl8O"
      },
      "execution_count": 8,
      "outputs": []
    },
    {
      "cell_type": "code",
      "source": [
        "llm_bound_to_tools = llm.bind_tools(tools=tools)"
      ],
      "metadata": {
        "id": "dQFtVrRZs971"
      },
      "execution_count": 9,
      "outputs": []
    },
    {
      "cell_type": "markdown",
      "source": [
        "Then let's write down a system message with instructions for the LLM..."
      ],
      "metadata": {
        "id": "v74mNZomqxbj"
      }
    },
    {
      "cell_type": "code",
      "source": [
        "system_message = \"\"\"\n",
        "You are a stretch coach tasked with generating stretch plans. If a user asks for\n",
        "stretches, only use the stretches returned from the tool called get_stretches.\n",
        "\"\"\"\n",
        "\n",
        "prompt_template = ChatPromptTemplate.from_messages(\n",
        "    [\n",
        "        ('system', system_message),\n",
        "        MessagesPlaceholder(variable_name='messages')\n",
        "    ]\n",
        ")\n",
        "\n",
        "# TODO: Trim the messages\n",
        "def stretch_coach(state: MessagesState):\n",
        "  prompt = prompt_template.invoke(input=state)\n",
        "  response = llm_bound_to_tools.invoke(input=prompt)\n",
        "  return {'messages': [response]}"
      ],
      "metadata": {
        "id": "yrtAQicUnzC0"
      },
      "execution_count": 12,
      "outputs": []
    },
    {
      "cell_type": "markdown",
      "source": [
        "In order to invoke the message, we need to:\n",
        "1. Build the graph\n",
        "2. Add nodes to the graph\n",
        "3. Connect the nodes via edges\n",
        "4. Preserve the conversation history in memory"
      ],
      "metadata": {
        "id": "w_zZxlMIoCbF"
      }
    },
    {
      "cell_type": "code",
      "source": [
        "# 1. Build the graph\n",
        "graph_builder = StateGraph(MessagesState)\n",
        "\n",
        "# 2. Add nodes to the graph\n",
        "graph_builder.add_node('stretch_coach', stretch_coach)\n",
        "graph_builder.add_node('tools', ToolNode(tools))\n",
        "\n",
        "# 3. Connect the nodes via edges\n",
        "graph_builder.add_edge(start_key=START, end_key='stretch_coach')\n",
        "graph_builder.add_conditional_edges(source='stretch_coach', path=tools_condition)\n",
        "graph_builder.add_edge(start_key='tools', end_key='stretch_coach')\n",
        "\n",
        "# 4. Preserve the conversation history in memory\n",
        "memory = MemorySaver()\n",
        "\n",
        "# Lastly, compile the graph so that it can be invoked\n",
        "runnable_graph = graph_builder.compile(checkpointer=memory)"
      ],
      "metadata": {
        "id": "rBnr30FInpy3"
      },
      "execution_count": 14,
      "outputs": []
    },
    {
      "cell_type": "code",
      "source": [
        "runnable_graph"
      ],
      "metadata": {
        "colab": {
          "base_uri": "https://localhost:8080/",
          "height": 266
        },
        "id": "YERbZeKxztae",
        "outputId": "0a9849f9-a3b8-4178-8674-71e1a21cbac0"
      },
      "execution_count": 15,
      "outputs": [
        {
          "output_type": "execute_result",
          "data": {
            "text/plain": [
              "<langgraph.graph.state.CompiledStateGraph object at 0x7805b1706510>"
            ],
            "image/png": "[encoded data removed]"
          },
          "metadata": {},
          "execution_count": 15
        }
      ]
    },
    {
      "cell_type": "code",
      "source": [
        "config = {'configurable': {'thread_id': 'abc123'}}"
      ],
      "metadata": {
        "id": "SI2ltdFq1mCU"
      },
      "execution_count": 17,
      "outputs": []
    },
    {
      "cell_type": "code",
      "source": [
        "for step in runnable_graph.stream(\n",
        "    input={'messages': messages},\n",
        "    config=config,\n",
        "    stream_mode='values'\n",
        "):\n",
        "  step['messages'][-1].pretty_print()"
      ],
      "metadata": {
        "colab": {
          "base_uri": "https://localhost:8080/"
        },
        "id": "eZERnWxm0TPB",
        "outputId": "0d65a53c-cf91-4572-917e-045762d56e09"
      },
      "execution_count": 20,
      "outputs": [
        {
          "output_type": "stream",
          "name": "stdout",
          "text": [
            "================================\u001b[1m Human Message \u001b[0m=================================\n",
            "\n",
            "\n",
            "Can you create a stretching routine for me? I'd like to focus on stretches to improve my flexibility.\n",
            "The plan should have five stretches that I can do for one minute each.\n",
            "\n",
            "==================================\u001b[1m Ai Message \u001b[0m==================================\n",
            "Tool Calls:\n",
            "  get_stretches (call_ipPXyv59zFDjTy8X49bOYnnC)\n",
            " Call ID: call_ipPXyv59zFDjTy8X49bOYnnC\n",
            "  Args:\n",
            "=================================\u001b[1m Tool Message \u001b[0m=================================\n",
            "Name: get_stretches\n",
            "\n",
            "[\"Archer Pose\", \"Four Corner Stretch\", \"Revolved Paying Homage\", \"Reverse Prayer\", \"Root Lock\"]\n",
            "==================================\u001b[1m Ai Message \u001b[0m==================================\n",
            "\n",
            "Here's a stretching routine to improve your flexibility, featuring five stretches you can hold for one minute each:\n",
            "\n",
            "1. **Archer Pose** - This stretch will help open up your shoulders and improve your flexibility in the chest and arms.\n",
            "  \n",
            "2. **Four Corner Stretch** - This stretch targets the hamstrings and lower back, promoting flexibility in those areas.\n",
            "\n",
            "3. **Revolved Paying Homage** - A great stretch to increase flexibility in the spine and hips.\n",
            "\n",
            "4. **Reverse Prayer** - This unique stretch helps to increase flexibility in the wrists, shoulders, and chest.\n",
            "\n",
            "5. **Root Lock** - This stretch focuses on the lower body and core, enhancing flexibility and stability.\n",
            "\n",
            "Hold each stretch for one minute to maximize your flexibility gains. Enjoy your stretching!\n"
          ]
        }
      ]
    },
    {
      "cell_type": "markdown",
      "source": [
        "TODO:\n",
        "* I'm not sure we want the LLM to generate instructions for each stretch in real-time. I should probably write instructions for each stretch when I record it. Or maybe I could have an LLM watch the video and generate instructions? It might be something to keep for now but improve later by adding vetted instructions.\n",
        "* In order for the longer ideal conversation to be able to be had, I need to:\n",
        "   1. Update the `get_stretches` tool to return stretches that are tagged with the body part the user wants to stretch.\n",
        "   2. Add a tool (or another agent) for scheduling a reminder.\n",
        "   3. Should the agent be given goals? Such as, goal 1 is figure out what types of stretches, goal 2 is to figure how many stretches, goal 3 is to figure out how long each stretch should be, etc.\n"
      ],
      "metadata": {
        "id": "yIwhO8HxBcCu"
      }
    },
    {
      "cell_type": "markdown",
      "source": [
        "# Longer Conversation"
      ],
      "metadata": {
        "id": "zpblmZnWXlrb"
      }
    },
    {
      "cell_type": "code",
      "source": [
        "messages = [HumanMessage(content=\"\"\"Hello, I'm feeling discomfort in my hips.\n",
        "I'm hoping you can help me create a stretching routine to alleviate some of this\n",
        "pain and improve my flexibility.\n",
        "\"\"\")]"
      ],
      "metadata": {
        "id": "6rSqMygK-t-k"
      },
      "execution_count": 21,
      "outputs": []
    },
    {
      "cell_type": "code",
      "source": [
        "# System message\n",
        "system_message = \"\"\"\n",
        "You are a stretch coach tasked with generating stretch plans. Here are your specific instructions:\n",
        "\n",
        "* If a user asks for stretches, only use the stretches returned from the tool called get_stretches.\n",
        "* When generating a stretch plan, include the stretch names but not descriptions of how to do the stretches.\n",
        "* You have these goals to achieve in a conversation:\n",
        "   1. Ask how long they would like to stretch for. 5 minutes is the default length of time.\n",
        "   2. Ask how often they would like to stretch for. Daily is the default cadence.\n",
        "   3. Generate a stretch plan that adheres to the user's time limit and cadence.\n",
        "\n",
        "\n",
        "Below is an example of a conversation a user can have with you:\n",
        "\n",
        "Human: Hello, I'm feeling discomfort in my hips. I'm hoping you can help me create a stretching routine to alleviate some of this pain and improve my flexibility.\n",
        "\n",
        "AI: Hello, of course I can help you with that! I know a lot of good hip stretches that you can try. First, I'd like to know how much time you'd like to allot for stretching. Is five minutes ok?\n",
        "\n",
        "Human: Sure, five minutes sounds good.\n",
        "\n",
        "AI: Ok. Here are five hip stretches you could do for one minute each:\n",
        "   * Stretch 1\n",
        "   * Stretch 2\n",
        "   * Stretch 3\n",
        "   * Stretch 4\n",
        "   * Stretch 5\n",
        "How does this stretch plan look?\n",
        "\n",
        "Human: Thanks, I think it looks good.\n",
        "\n",
        "AI: Great, and how often would you like to stretch? Once a day?\n",
        "\n",
        "Human: Stretching everyday would be a good goal for me. Let me try out these stretches later today.\n",
        "\n",
        "AI: Sounds good, I hope it goes well!\n",
        "\"\"\"\n",
        "\n",
        "prompt_template = ChatPromptTemplate.from_messages(\n",
        "    [\n",
        "        ('system', system_message),\n",
        "        MessagesPlaceholder(variable_name='messages')\n",
        "    ]\n",
        ")\n",
        "\n",
        "# TODO: Trim the messages\n",
        "def stretch_coach(state: MessagesState):\n",
        "  prompt = prompt_template.invoke(input=state)\n",
        "  response = llm_bound_to_tools.invoke(input=prompt)\n",
        "  return {'messages': [response]}"
      ],
      "metadata": {
        "id": "QS85cPQYX9Re"
      },
      "execution_count": 37,
      "outputs": []
    },
    {
      "cell_type": "code",
      "source": [
        "# 1. Build the graph\n",
        "graph_builder = StateGraph(MessagesState)\n",
        "\n",
        "# 2. Add nodes to the graph\n",
        "graph_builder.add_node('stretch_coach', stretch_coach)\n",
        "graph_builder.add_node('tools', ToolNode(tools))\n",
        "\n",
        "# 3. Connect the nodes via edges\n",
        "graph_builder.add_edge(start_key=START, end_key='stretch_coach')\n",
        "graph_builder.add_conditional_edges(source='stretch_coach', path=tools_condition)\n",
        "graph_builder.add_edge(start_key='tools', end_key='stretch_coach')\n",
        "\n",
        "# 4. Preserve the conversation history in memory\n",
        "memory = MemorySaver()\n",
        "\n",
        "# Lastly, compile the graph so that it can be invoked\n",
        "runnable_graph = graph_builder.compile(checkpointer=memory)"
      ],
      "metadata": {
        "id": "GV8UhnKg41Oc"
      },
      "execution_count": 38,
      "outputs": []
    },
    {
      "cell_type": "code",
      "source": [
        "runnable_graph"
      ],
      "metadata": {
        "colab": {
          "base_uri": "https://localhost:8080/",
          "height": 266
        },
        "id": "AJWYi77Y5KYQ",
        "outputId": "e96a677f-1eb0-425e-d5f3-4d736985b40e"
      },
      "execution_count": 39,
      "outputs": [
        {
          "output_type": "execute_result",
          "data": {
            "text/plain": [
              "<langgraph.graph.state.CompiledStateGraph object at 0x7805b19e37d0>"
            ],
            "image/png": "[encoded data removed]"
          },
          "metadata": {},
          "execution_count": 39
        }
      ]
    },
    {
      "cell_type": "code",
      "source": [
        "runnable_graph.get_state(config)"
      ],
      "metadata": {
        "colab": {
          "base_uri": "https://localhost:8080/"
        },
        "id": "K05FHVNh5Mat",
        "outputId": "cd9490bd-575f-488a-92a2-b9ed059803fb"
      },
      "execution_count": 40,
      "outputs": [
        {
          "output_type": "execute_result",
          "data": {
            "text/plain": [
              "StateSnapshot(values={}, next=(), config={'configurable': {'thread_id': 'abc123'}}, metadata=None, created_at=None, parent_config=None, tasks=(), interrupts=())"
            ]
          },
          "metadata": {},
          "execution_count": 40
        }
      ]
    },
    {
      "cell_type": "code",
      "source": [
        "messages"
      ],
      "metadata": {
        "colab": {
          "base_uri": "https://localhost:8080/"
        },
        "id": "2LOezqP9cPKt",
        "outputId": "a0d0f005-f9c3-41bc-83e9-cbdc10aaeb8f"
      },
      "execution_count": 41,
      "outputs": [
        {
          "output_type": "execute_result",
          "data": {
            "text/plain": [
              "[HumanMessage(content=\"Hello, I'm feeling discomfort in my hips. \\nI'm hoping you can help me create a stretching routine to alleviate some of this \\npain and improve my flexibility.\\n\", additional_kwargs={}, response_metadata={}, id='05b20552-a4ef-4d9d-bd5a-8262ab634d0c')]"
            ]
          },
          "metadata": {},
          "execution_count": 41
        }
      ]
    },
    {
      "cell_type": "code",
      "source": [
        "for step in runnable_graph.stream(\n",
        "    input={'messages': messages},\n",
        "    config=config,\n",
        "    stream_mode='values'\n",
        "):\n",
        "  step['messages'][-1].pretty_print()"
      ],
      "metadata": {
        "colab": {
          "base_uri": "https://localhost:8080/"
        },
        "id": "LF9c_V_N32-G",
        "outputId": "7ff36dfc-ab55-4851-f84c-114fe904bb15"
      },
      "execution_count": 42,
      "outputs": [
        {
          "output_type": "stream",
          "name": "stdout",
          "text": [
            "================================\u001b[1m Human Message \u001b[0m=================================\n",
            "\n",
            "Hello, I'm feeling discomfort in my hips. \n",
            "I'm hoping you can help me create a stretching routine to alleviate some of this \n",
            "pain and improve my flexibility.\n",
            "\n",
            "==================================\u001b[1m Ai Message \u001b[0m==================================\n",
            "\n",
            "Hello, of course I can help you with that! I know a lot of good hip stretches that you can try. First, I'd like to know how much time you'd like to allot for stretching. Is five minutes ok?\n"
          ]
        }
      ]
    },
    {
      "cell_type": "code",
      "source": [
        "new_user_message = 'Sure, five minutes is ok.'\n",
        "\n",
        "for step in runnable_graph.stream(\n",
        "    input={'messages': messages + [HumanMessage(content=new_user_message)]},\n",
        "    config=config,\n",
        "    stream_mode='values'\n",
        "):\n",
        "  step['messages'][-1].pretty_print()"
      ],
      "metadata": {
        "colab": {
          "base_uri": "https://localhost:8080/"
        },
        "id": "hfEyHRqv6W4E",
        "outputId": "26dc02e0-43f7-4d46-a736-a1a9f0fd9518"
      },
      "execution_count": 43,
      "outputs": [
        {
          "output_type": "stream",
          "name": "stdout",
          "text": [
            "================================\u001b[1m Human Message \u001b[0m=================================\n",
            "\n",
            "Sure, five minutes is ok.\n",
            "==================================\u001b[1m Ai Message \u001b[0m==================================\n",
            "Tool Calls:\n",
            "  get_stretches (call_okmJIebNedWAkH6AKCXDv16n)\n",
            " Call ID: call_okmJIebNedWAkH6AKCXDv16n\n",
            "  Args:\n",
            "=================================\u001b[1m Tool Message \u001b[0m=================================\n",
            "Name: get_stretches\n",
            "\n",
            "[\"Archer Pose\", \"Four Corner Stretch\", \"Revolved Paying Homage\", \"Reverse Prayer\", \"Root Lock\"]\n",
            "==================================\u001b[1m Ai Message \u001b[0m==================================\n",
            "\n",
            "Great! Here are five hip stretches you could do for one minute each:\n",
            "\n",
            "* Archer Pose\n",
            "* Four Corner Stretch\n",
            "* Revolved Paying Homage\n",
            "* Reverse Prayer\n",
            "* Root Lock\n",
            "\n",
            "How does this stretch plan look?\n"
          ]
        }
      ]
    },
    {
      "cell_type": "code",
      "source": [
        "new_user_message = 'Looks good to me!'\n",
        "\n",
        "for step in runnable_graph.stream(\n",
        "    input={'messages': messages + [HumanMessage(content=new_user_message)]},\n",
        "    config=config,\n",
        "    stream_mode='values'\n",
        "):\n",
        "  step['messages'][-1].pretty_print()"
      ],
      "metadata": {
        "id": "AuRRo22LfyUx",
        "colab": {
          "base_uri": "https://localhost:8080/"
        },
        "outputId": "00594165-9112-47e2-99bc-fb08b70416c1"
      },
      "execution_count": 44,
      "outputs": [
        {
          "output_type": "stream",
          "name": "stdout",
          "text": [
            "================================\u001b[1m Human Message \u001b[0m=================================\n",
            "\n",
            "Looks good to me!\n",
            "==================================\u001b[1m Ai Message \u001b[0m==================================\n",
            "\n",
            "Awesome! Now, how often would you like to stretch? Would stretching every day be a good goal for you?\n"
          ]
        }
      ]
    },
    {
      "cell_type": "code",
      "source": [
        "new_user_message = 'Yes, stretching everyday would be a good goal for me. I will start today!'\n",
        "\n",
        "for step in runnable_graph.stream(\n",
        "    input={'messages': messages + [HumanMessage(content=new_user_message)]},\n",
        "    config=config,\n",
        "    stream_mode='values'\n",
        "):\n",
        "  step['messages'][-1].pretty_print()"
      ],
      "metadata": {
        "colab": {
          "base_uri": "https://localhost:8080/"
        },
        "id": "rhu7WUMo7H_s",
        "outputId": "e2a14e2c-030e-41a0-be03-8f73fdef6bfa"
      },
      "execution_count": 45,
      "outputs": [
        {
          "output_type": "stream",
          "name": "stdout",
          "text": [
            "================================\u001b[1m Human Message \u001b[0m=================================\n",
            "\n",
            "Yes, stretching everyday would be a good goal for me. I will start today!\n",
            "==================================\u001b[1m Ai Message \u001b[0m==================================\n",
            "\n",
            "Sounds great! I'm glad you're starting today. Enjoy your stretches, and I hope they help with your hip discomfort! If you need any more assistance in the future, feel free to ask.\n"
          ]
        }
      ]
    },
    {
      "cell_type": "markdown",
      "source": [
        "TODO: Update the state schema to capture the:\n",
        "* Stretch duration\n",
        "* Stretch cadence\n",
        "* Stretch plan"
      ],
      "metadata": {
        "id": "lk75IXDK783P"
      }
    },
    {
      "cell_type": "code",
      "source": [],
      "metadata": {
        "id": "1f7CyqgO7Xgy"
      },
      "execution_count": null,
      "outputs": []
    }
  ]
}